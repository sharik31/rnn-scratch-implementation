{
 "cells": [
  {
   "cell_type": "markdown",
   "id": "f1075af1",
   "metadata": {},
   "source": [
    "## BUILDING RNN FROM SCRATCH :"
   ]
  },
  {
   "cell_type": "code",
   "execution_count": 2,
   "id": "17360ae7",
   "metadata": {},
   "outputs": [],
   "source": [
    "import numpy as np"
   ]
  },
  {
   "cell_type": "code",
   "execution_count": 8,
   "id": "e32eef70",
   "metadata": {},
   "outputs": [],
   "source": [
    "\n",
    "\n",
    "def softmax(x):\n",
    "    e_x = np.exp(x - np.max(x))  \n",
    "    return e_x / np.sum(e_x)"
   ]
  },
  {
   "cell_type": "markdown",
   "id": "fb32b9dd",
   "metadata": {},
   "source": [
    "# Forward Propagation"
   ]
  },
  {
   "cell_type": "code",
   "execution_count": null,
   "id": "c49dc088",
   "metadata": {},
   "outputs": [],
   "source": [
    "def single_step_rnn(xt, a_prev,Wax,Waa,Wya,ba,by):\n",
    "    a_next= np.tah(np.dot(Wax,xt)+np.dot(Waa,a_prev)+ba)\n",
    "    yt=softmax(np.dot(Wya,a_next)+by)\n",
    "   \n",
    "    cache = (a_next, a_prev, xt, Wax,Waa,Wya,ba,by)\n",
    "\n",
    "    return a_next,yt,cache\n"
   ]
  },
  {
   "cell_type": "code",
   "execution_count": 11,
   "id": "9deb4a9e",
   "metadata": {},
   "outputs": [],
   "source": [
    "def rnn_forward(X,a0,Wax,Waa,Wya,ba,by):\n",
    "    n_x,m,T=X.shape\n",
    "    n_y, n_a = Wya.shape\n",
    "    a=np.zeros((n_a,m,T))\n",
    "    y_pred=np.zeros((n_y,m,T))\n",
    "\n",
    "    a_next=a0\n",
    "    caches=[]\n",
    "    for t in range(T):\n",
    "        xt=X[:,:,t]\n",
    "        a_next,yt,cache=single_step_rnn(xt,a_next,Wax,Waa,Wya,ba,by)\n",
    "        a[:,:,t]=a_next\n",
    "        y_pred[:,:,t]=yt\n",
    "        caches.append(cache)\n",
    "        \n",
    "\n",
    "    caches = (caches, X)\n",
    "    \n",
    "    return a, y_pred, caches\n",
    "\n",
    "    \n"
   ]
  },
  {
   "cell_type": "markdown",
   "id": "9fa57fe6",
   "metadata": {},
   "source": [
    "## Backpropagation through time"
   ]
  },
  {
   "cell_type": "code",
   "execution_count": null,
   "id": "8400351d",
   "metadata": {},
   "outputs": [],
   "source": [
    "def single_step_backward(da_next,cache):\n",
    "    a_next,a_prev,xt,Wax,Waa,Wya,ba,by=cache\n",
    "\n",
    "    dtanh= da_next*(1-np.tanh(a_next)**2)\n",
    "    dWax = np.dot(dtanh, xt.T)        \n",
    "    dWaa = np.dot(dtanh, a_prev.T)\n",
    "    dba  = np.sum(dtanh, axis=1, keepdims=True) \n",
    "    dxt  = np.dot(Wax.T, dtanh)    \n",
    "    da_prev = np.dot(Waa.T, dtanh) \n",
    "\n",
    "    gradients = {\n",
    "        \"dxt\": dxt,\n",
    "        \"da_prev\": da_prev,\n",
    "        \"dWax\": dWax,\n",
    "        \"dWaa\": dWaa,\n",
    "        \"dba\": dba\n",
    "    }\n",
    "    \n",
    "    return gradients\n"
   ]
  },
  {
   "cell_type": "code",
   "execution_count": null,
   "id": "70d42092",
   "metadata": {},
   "outputs": [],
   "source": [
    "def rnn_backward(da, caches):\n",
    "    \n",
    "    \n",
    "    (list_caches, x) = caches  \n",
    "    (a1, a0, x1,Wax,Waa,Wya,ba,by) = list_caches[0]  \n",
    "\n",
    "    \n",
    "    n_a, m, T = da.shape       \n",
    "    n_x, _ = x1.shape             \n",
    "    \n",
    "   \n",
    "    dx    = np.zeros((n_x, m, T))\n",
    "    dWax  = np.zeros((n_a, n_x))\n",
    "    dWaa  = np.zeros((n_a, n_a))\n",
    "    dba   = np.zeros((n_a, 1))\n",
    "    da0   = np.zeros((n_a, m))\n",
    "    \n",
    "\n",
    "    da_prevt = np.zeros((n_a, m))\n",
    "    \n",
    "    \n",
    "    for t in reversed(range(T)):\n",
    "        \n",
    "    \n",
    "        da_current = da[:, :, t] + da_prevt\n",
    "        \n",
    "        \n",
    "        gradients = single_step_backward(da_current, list_caches[t])\n",
    "        \n",
    "    \n",
    "        dxt     = gradients[\"dxt\"]\n",
    "        da_prevt = gradients[\"da_prev\"]\n",
    "        dWaxt   = gradients[\"dWax\"]\n",
    "        dWaat   = gradients[\"dWaa\"]\n",
    "        dbat    = gradients[\"dba\"]\n",
    "        \n",
    "    \n",
    "        dx[:, :, t] = dxt\n",
    "        \n",
    "        \n",
    "        dWax += dWaxt\n",
    "        dWaa += dWaat\n",
    "        dba  += dbat\n",
    "    \n",
    "    \n",
    "    da0 = da_prevt\n",
    "    \n",
    "   \n",
    "    gradients = {\n",
    "        \"dx\": dx,\n",
    "        \"da0\": da0,\n",
    "        \"dWax\": dWax,\n",
    "        \"dWaa\": dWaa,\n",
    "        \"dba\": dba\n",
    "    }\n",
    "    \n",
    "    return gradients\n"
   ]
  },
  {
   "cell_type": "code",
   "execution_count": null,
   "id": "b9a53787",
   "metadata": {},
   "outputs": [],
   "source": []
  }
 ],
 "metadata": {
  "kernelspec": {
   "display_name": "base",
   "language": "python",
   "name": "python3"
  },
  "language_info": {
   "codemirror_mode": {
    "name": "ipython",
    "version": 3
   },
   "file_extension": ".py",
   "mimetype": "text/x-python",
   "name": "python",
   "nbconvert_exporter": "python",
   "pygments_lexer": "ipython3",
   "version": "3.10.14"
  }
 },
 "nbformat": 4,
 "nbformat_minor": 5
}
